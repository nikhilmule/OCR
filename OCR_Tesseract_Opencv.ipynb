{
 "cells": [
  {
   "cell_type": "markdown",
   "metadata": {},
   "source": [
    "# OCR (_Optical Character Recognition_)\n",
    "\n",
    "## Objective:\n",
    "\n",
    "    - The main objective of this project is to extract the customer information from the monthly rechnung (bill).\n",
    "    - Initially the \"Pdf\" is converted into the \"Image\" and then 'opencv' library is used for adjusting the color and thershold.\n",
    "        + While converting the pdf to image. download and mention the 'Poppler' location\n",
    "    - 'Tesseract' library is used for converting the image to string and data\n",
    "        + download and mention the tesseract location\n",
    "    - 'Regex' is utilized here for extracting the useful information like all details.\n",
    "    - Then a dataframe is created for storing all details and further dataframe is stored as \".csv\" file.\n",
    "    - New Database connection is established for storing the .csv files and new tables are created for storing the image files\n",
    "    - In this project postgresql database is used.\n"
   ]
  },
  {
   "cell_type": "markdown",
   "metadata": {},
   "source": [
    "### 1. Importing and installing all libraries"
   ]
  },
  {
   "cell_type": "code",
   "execution_count": 1,
   "metadata": {},
   "outputs": [
    {
     "name": "stdout",
     "output_type": "stream",
     "text": [
      "Requirement already satisfied: pdf2image in d:\\anaconda\\envs\\ocr\\lib\\site-packages (1.16.0)\n",
      "Requirement already satisfied: pillow in d:\\anaconda\\envs\\ocr\\lib\\site-packages (from pdf2image) (8.2.0)\n",
      "Note: you may need to restart the kernel to use updated packages.\n"
     ]
    },
    {
     "name": "stderr",
     "output_type": "stream",
     "text": [
      "WARNING: Ignoring invalid distribution -illow (d:\\anaconda\\envs\\ocr\\lib\\site-packages)\n",
      "WARNING: Ignoring invalid distribution -illow (d:\\anaconda\\envs\\ocr\\lib\\site-packages)\n",
      "WARNING: Ignoring invalid distribution -illow (d:\\anaconda\\envs\\ocr\\lib\\site-packages)\n",
      "WARNING: Ignoring invalid distribution -illow (d:\\anaconda\\envs\\ocr\\lib\\site-packages)\n",
      "WARNING: Ignoring invalid distribution -illow (d:\\anaconda\\envs\\ocr\\lib\\site-packages)\n",
      "WARNING: Ignoring invalid distribution -illow (d:\\anaconda\\envs\\ocr\\lib\\site-packages)\n"
     ]
    },
    {
     "name": "stdout",
     "output_type": "stream",
     "text": [
      "Requirement already satisfied: tesseract in d:\\anaconda\\envs\\ocr\\lib\\site-packages (0.1.3)\n",
      "Note: you may need to restart the kernel to use updated packages.\n"
     ]
    },
    {
     "name": "stderr",
     "output_type": "stream",
     "text": [
      "WARNING: Ignoring invalid distribution -illow (d:\\anaconda\\envs\\ocr\\lib\\site-packages)\n",
      "WARNING: Ignoring invalid distribution -illow (d:\\anaconda\\envs\\ocr\\lib\\site-packages)\n",
      "WARNING: Ignoring invalid distribution -illow (d:\\anaconda\\envs\\ocr\\lib\\site-packages)\n",
      "WARNING: Ignoring invalid distribution -illow (d:\\anaconda\\envs\\ocr\\lib\\site-packages)\n",
      "WARNING: Ignoring invalid distribution -illow (d:\\anaconda\\envs\\ocr\\lib\\site-packages)\n",
      "WARNING: Ignoring invalid distribution -illow (d:\\anaconda\\envs\\ocr\\lib\\site-packages)\n"
     ]
    }
   ],
   "source": [
    "%pip install pdf2image\n",
    "%pip install tesseract"
   ]
  },
  {
   "cell_type": "code",
   "execution_count": 2,
   "metadata": {},
   "outputs": [],
   "source": [
    "import os\n",
    "import cv2 as cv;\n",
    "import pandas as pd;\n",
    "import numpy as np;\n",
    "import pytesseract;\n",
    "import re;\n",
    "from PIL import Image"
   ]
  },
  {
   "cell_type": "markdown",
   "metadata": {},
   "source": [
    "### 2. Converting the pdf to image"
   ]
  },
  {
   "cell_type": "code",
   "execution_count": 3,
   "metadata": {},
   "outputs": [],
   "source": [
    "from pdf2image import convert_from_path\n",
    "images = convert_from_path('Sample_test.pdf', poppler_path= r'E:\\integrify\\Notebooks\\Pytorch\\poppler\\Release-21.11.0-0\\poppler-21.11.0\\Library\\bin')"
   ]
  },
  {
   "cell_type": "markdown",
   "metadata": {},
   "source": [
    "### 3. Storing the images in the new folder"
   ]
  },
  {
   "cell_type": "code",
   "execution_count": 4,
   "metadata": {},
   "outputs": [],
   "source": [
    "Label = 'test_samples'\n",
    "if not os.path.exists(Label):\n",
    "    os.mkdir(Label)"
   ]
  },
  {
   "cell_type": "code",
   "execution_count": 5,
   "metadata": {},
   "outputs": [],
   "source": [
    "os.chdir('test_samples')\n",
    "for i, image in enumerate(images):\n",
    "    test_cases = 'image'+str(i)+'.jpg'\n",
    "    image.save(test_cases, \"JPEG\")"
   ]
  },
  {
   "cell_type": "markdown",
   "metadata": {},
   "source": [
    "### 4. Preprocessing the image for extracting the information"
   ]
  },
  {
   "cell_type": "code",
   "execution_count": 38,
   "metadata": {},
   "outputs": [
    {
     "name": "stdout",
     "output_type": "stream",
     "text": [
      "eine freenet Marke\n",
      "Rechnungsdatum: 28.10.2021\n",
      "Rechnungsnr.: M21067604209\n",
      "Kundennummer: 37382491\n",
      "Haben Sie Fragen zur\n",
      "Rechnung? www.md.de/fa:\n",
      "Post: mobilcom-debitel GmbH » 99076 Erfurt\n",
      "mobilcom-debitel Kundenservice\n",
      "Telefon: 040/55 55 41 000\n",
      "mobilcom-debitel Kundenservice\n",
      "Technik\n",
      "Telefon: 0900/10 22 24 0\n",
      "Herr € 2,49/Anruf, nur aus dem dt. Festnetz\n",
      "Nikhil Raj Mule empichbar\n",
      "Karl-Marx-Allee 3 Winenae\n",
      "07747 Jena\n",
      "Ihre mobilcom-debitel Rechnung Seite 1 von 2\n",
      "Rechnungsbetrag netto 16,7984 €\n",
      "USt.-Betrag (19%) 3,19€\n",
      "Rechnungsbetrag gesamt 19,99 €\n",
      "Die Begleichung der Rechnung erfolgt am 04.11.2021 im Lastschriftverfahren mit der Mandatsreferenz-Nummer\n",
      "MC-37382491-00000001 von dem Konto: IBAN DE77**************9200.\n",
      "Warnung vor SMS-Betrug: Aktuell zirkulieren in Deutschland auf den ersten Blick harmlos wirkende SMS, die z. B. auf\n",
      "den Versand eines Paketes hinweisen und zur Uberpriifung aufrufen. Der in den SMS enthaltene Link sollte auf keinen Fall\n",
      "angeklickt werden! Die Offnung des Links kann zur Installation von Schadsoftware auf dem Smartphone fiihren — mit Zugriff\n",
      "auf Kontakte, Informationen und andere sensible Daten. Mehr Informationen gibt es unter www.md.de/smswarnung\n",
      "Mobilfunk-Vertragsabrechnungen\n",
      "Mobilfunk-Rufnummer 0176 / 47344855 Vertragsnummer: 224983810\n",
      "Mobilfunknetz: Telekom Tarif: green LTE 6 GB\n",
      "Teilnehmer: Nikhil Raj Mule\n",
      "Die Leistungen im Uberblick\n",
      "Menge Details Zeitraum/Datum Summe\n",
      "Basisleistungen\n",
      "1 Grundgebiihr 01.11.2021 - 30.11.2021 26,8824 €\n",
      "1 freenet Hotspot Flat (DLS24MOTBOG0000) 01.11.2021 - 30.11.2021 0,0000 €\n",
      "Unbegrenztes Datenvolumen im groRten WLAN-\n",
      "Netzwerk\n",
      "Verbindungen\n",
      "9 Verbindungen ins dt. Festnetz (FN) 01.10.2021 - 27.10.2021 0,0000 €\n",
      "8 Netzinterne Verbindungen (NI) 11.10.2021 - 25.10.2021 0,0000 €\n",
      "109 Netzexterne Verbindungen (NX) 28.09.2021 - 27.10.2021 0,0000 €\n",
      "38 Datenverbindungen (DATA) 28.09.2021 - 26.10.2021 0,0000 €\n",
      "Zwischensumme netto 26,8824 €\n",
      "a Rechnungserklarung\n",
      "Ihre mobilcom-debitel Vorteile cul\n",
      "‘ fl bepl El\n",
      "1 24 x 12 EUR Rabatt auf Monatsgrundpreis 01.11.2021 - 30.11.2021 -10,0840 € z stp a\n",
      "a 3 =e\n",
      "Nettobetrag fiir Rufnummer 0176 / 47344855 16,7984 € arp ote\n",
      "ae fe en\n",
      "Sofern Sie die Léschung Ihrer Verbindungsdaten sofort oder 180 Tage nach Rechnungsstellung gewtinscht haben, entfallt mit _ err\n",
      "aaa\n",
      "der Léschung unsere Nachweispflicht fir diese Daten. Erfolgt innerhalb von 8 Wochen nach Erhalt der Rechnung kein Ele ae\n",
      "schriftlicher Widerspruch, gilt die Rechnung als genehmigt. Begriindete Einwendungen kénnen auch gegen einzelne in der\n",
      "Rechnung dargestellte Forderungen erhoben werden. Verzug tritt spatestens 30 Tage nach Zugang der Rechnung ein. Dies\n",
      "schlieRt einen friihzeitigeren Verzug nicht aus. Hinweise zum Ablauf eines Anbieterwechsels finden Sie auf der Internetseite\n",
      "der Bundesnetzagentur.\n",
      "a\n",
      "a\n",
      ":\n",
      "= 2\n",
      "a\n",
      "wi\n",
      "e)\n",
      "mobilcom-debitel GmbH + Geschaftsfihrung: Ingo Amold, Antonius Fromme, Rickman von Platen ISO 9001\n",
      "HRB 14826 KI, Amtsgericht Kiel « Vorsitzender des Aufsichtsrats: Stephan Esch « Sitz der Gesellschaft: Bidelsdort __\n",
      "Bankverbindung: Commerzbank Rendsburg IBAN DE08214400450844443200 « BIC COBADEFFXXX Zertifizierter\n",
      "USt-ID: DE 194 910 634 + Glaubiger-ID: DE43ZZZ00000074855 Abrechnungsprozess\n",
      "\n"
     ]
    },
    {
     "data": {
      "text/plain": [
       "-1"
      ]
     },
     "execution_count": 38,
     "metadata": {},
     "output_type": "execute_result"
    }
   ],
   "source": [
    "from pytesseract import Output\n",
    "pytesseract.pytesseract.tesseract_cmd=r'C:\\Program Files (x86)\\Tesseract-OCR\\tesseract.exe' #important part\n",
    "img_ = cv.imread('image0.jpg')\n",
    "image = cv.resize(img_, (1654,2339)) # size is original \n",
    "img = image.copy()\n",
    "mask = np.zeros(image.shape, dtype=np.uint8)\n",
    "gray = cv.cvtColor(image, cv.COLOR_BGR2GRAY) #convert an image from one color space to another\n",
    "thresh = cv.threshold(gray, 0, 255, cv.THRESH_BINARY + cv.THRESH_OTSU)[1]\n",
    "# Filter for ROI using contour area and aspect ratio\n",
    "countour = cv.findContours(thresh, cv.RETR_TREE, cv.CHAIN_APPROX_SIMPLE)\n",
    "countour = countour[0] if len(countour) == 2 else countour[1]\n",
    "#-----------------------------------------------------------#\n",
    "\"\"\" Contours are defined as the line joining all the points along the boundary of an image that are having the same intensity. \n",
    "    Contours come handy in shape analysis, finding the size of the object of interest, and object detection.\n",
    "    OpenCV has findContour() function that helps in extracting the contours from the image. \n",
    "    It works best on binary images, so we should first apply thresholding techniques, Sobel edges, etc.\n",
    "   \"\"\"\n",
    "#-----------------------------------------------------------#\n",
    "for c in countour:\n",
    "    area = cv.contourArea(c)\n",
    "    peri = cv.arcLength(c, True)\n",
    "    approx = cv.approxPolyDP(c, 0.05 * peri, True) #Douglas-Peucker algorithm\n",
    "    x,y,w,h = cv.boundingRect(approx)\n",
    "    aspect_ratio = w / float(h)\n",
    "    if area > 2000 and aspect_ratio > .5:\n",
    "        mask[y:y+h, x:x+w] = image[y:y+h, x:x+w]\n",
    "h, w, c = img.shape\n",
    "boxes = pytesseract.image_to_boxes(img)\n",
    "#------------------------------------------------------------#\n",
    "for b in boxes.splitlines():\n",
    "    b = b.split(' ')\n",
    "    img = cv.rectangle(img, (int(b[1]), h - int(b[2])), (int(b[3]), h - int(b[4])), (0, 255, 0), 2)\n",
    "d = pytesseract.image_to_data(img, output_type= Output.DICT)\n",
    "n_boxes = len(d['text'])\n",
    "#------------------------------------------------------------#\n",
    "for i in range(n_boxes):\n",
    "    if int(float(d['conf'][i])) > 60:\n",
    "        (x, y, w, h) = (d['left'][i], d['top'][i], d['width'][i], d['height'][i])\n",
    "        img2 = cv.rectangle(img, (x, y), (x + w, y + h), (0, 255, 0), 2)\n",
    "cv.imshow('img', img)\n",
    "cv.imshow('img2', img2)\n",
    "# Perfrom OCR with Pytesseract\n",
    "data = pytesseract.image_to_string(mask, lang='eng', config='--psm 6')\n",
    "print(data)\n",
    "cv.imshow('thresh', thresh)\n",
    "cv.imshow('mask', mask)\n",
    "cv.waitKey(0)"
   ]
  },
  {
   "cell_type": "markdown",
   "metadata": {},
   "source": [
    "### 5. Extracting the customer information"
   ]
  },
  {
   "cell_type": "code",
   "execution_count": 9,
   "metadata": {},
   "outputs": [
    {
     "data": {
      "text/plain": [
       "['37382491',\n",
       " '0176 / 47344855',\n",
       " '224983810',\n",
       " 'Telekom',\n",
       " 'green LTE 6 GB',\n",
       " 'Nikhil Raj Mule',\n",
       " '0176 / 47344855']"
      ]
     },
     "execution_count": 9,
     "metadata": {},
     "output_type": "execute_result"
    }
   ],
   "source": [
    "#positive lookbehind\n",
    "data_ = re.findall(r\"(?<=Rufnummer\\s)\\d+\\s\\/\\s\\d+|(?<=nummer\\:\\s)\\d+|(?<=netz\\:\\s)\\w+|(?<=rif\\:\\s)\\w+\\s\\w+\\s\\w+\\s\\wB|(?<=nehmer\\:\\s)\\w+\\s\\w+\\s\\w+|(?<=Teilnehmer\\:\\s)\\w+\\s\\w+\\s\\w+\",data)\n",
    "data_"
   ]
  },
  {
   "cell_type": "markdown",
   "metadata": {},
   "source": [
    "### 6. Creating and saving the dataframe as .CSV file"
   ]
  },
  {
   "cell_type": "code",
   "execution_count": 10,
   "metadata": {},
   "outputs": [
    {
     "data": {
      "text/html": [
       "<div>\n",
       "<style scoped>\n",
       "    .dataframe tbody tr th:only-of-type {\n",
       "        vertical-align: middle;\n",
       "    }\n",
       "\n",
       "    .dataframe tbody tr th {\n",
       "        vertical-align: top;\n",
       "    }\n",
       "\n",
       "    .dataframe thead th {\n",
       "        text-align: right;\n",
       "    }\n",
       "</style>\n",
       "<table border=\"1\" class=\"dataframe\">\n",
       "  <thead>\n",
       "    <tr style=\"text-align: right;\">\n",
       "      <th></th>\n",
       "      <th>Kundennummer</th>\n",
       "      <th>Handy_nummer</th>\n",
       "      <th>Vertragsnummer</th>\n",
       "      <th>Mobilfunknetz</th>\n",
       "      <th>Tarif</th>\n",
       "      <th>Teilnehmer</th>\n",
       "    </tr>\n",
       "  </thead>\n",
       "  <tbody>\n",
       "    <tr>\n",
       "      <th>0</th>\n",
       "      <td>37382491</td>\n",
       "      <td>0176 / 47344855</td>\n",
       "      <td>224983810</td>\n",
       "      <td>Telekom</td>\n",
       "      <td>green LTE 6 GB</td>\n",
       "      <td>Nikhil Raj Mule</td>\n",
       "    </tr>\n",
       "  </tbody>\n",
       "</table>\n",
       "</div>"
      ],
      "text/plain": [
       "  Kundennummer     Handy_nummer Vertragsnummer Mobilfunknetz           Tarif  \\\n",
       "0     37382491  0176 / 47344855      224983810       Telekom  green LTE 6 GB   \n",
       "\n",
       "        Teilnehmer  \n",
       "0  Nikhil Raj Mule  "
      ]
     },
     "execution_count": 10,
     "metadata": {},
     "output_type": "execute_result"
    }
   ],
   "source": [
    "phone_bill_data = pd.DataFrame(data= { 'Kundennummer': [data_[0]],'Handy_nummer': [data_[1]], 'Vertragsnummer': [data_[2]], \n",
    "                    'Mobilfunknetz': [data_[3]], 'Tarif': [data_[4]], 'Teilnehmer': [data_[5]]})\n",
    "phone_bill_data"
   ]
  },
  {
   "cell_type": "code",
   "execution_count": 12,
   "metadata": {},
   "outputs": [],
   "source": [
    "phone_bill_data.to_csv('OCR_bills_data.csv')"
   ]
  },
  {
   "cell_type": "markdown",
   "metadata": {},
   "source": [
    "### 7. Connecting to the database for storing the .csv file"
   ]
  },
  {
   "cell_type": "code",
   "execution_count": 13,
   "metadata": {},
   "outputs": [],
   "source": [
    "param_dict={\n",
    "    \"host\":\"localhost\",\n",
    "    \"database\":\"phone_bills\",\n",
    "    \"user\":\"***\",\n",
    "    \"password\": \"****\"\n",
    "}"
   ]
  },
  {
   "cell_type": "code",
   "execution_count": 14,
   "metadata": {},
   "outputs": [
    {
     "name": "stdout",
     "output_type": "stream",
     "text": [
      "Requirement already satisfied: psycopg2 in d:\\anaconda\\envs\\ocr\\lib\\site-packages (2.9.2)Note: you may need to restart the kernel to use updated packages.\n",
      "\n"
     ]
    },
    {
     "name": "stderr",
     "output_type": "stream",
     "text": [
      "WARNING: Ignoring invalid distribution -illow (d:\\anaconda\\envs\\ocr\\lib\\site-packages)\n",
      "WARNING: Ignoring invalid distribution -illow (d:\\anaconda\\envs\\ocr\\lib\\site-packages)\n",
      "WARNING: Ignoring invalid distribution -illow (d:\\anaconda\\envs\\ocr\\lib\\site-packages)\n",
      "WARNING: Ignoring invalid distribution -illow (d:\\anaconda\\envs\\ocr\\lib\\site-packages)\n",
      "WARNING: Ignoring invalid distribution -illow (d:\\anaconda\\envs\\ocr\\lib\\site-packages)\n",
      "WARNING: Ignoring invalid distribution -illow (d:\\anaconda\\envs\\ocr\\lib\\site-packages)\n"
     ]
    }
   ],
   "source": [
    "%pip install psycopg2"
   ]
  },
  {
   "cell_type": "code",
   "execution_count": 15,
   "metadata": {},
   "outputs": [],
   "source": [
    "from sqlalchemy.engine import create_engine\n",
    "import psycopg2"
   ]
  },
  {
   "cell_type": "code",
   "execution_count": 16,
   "metadata": {},
   "outputs": [],
   "source": [
    "connect = \"postgresql://%s:%s@%s:5432/%s\" %(param_dict[\"user\"], param_dict[\"password\"], param_dict[\"host\"], param_dict[\"database\"])"
   ]
  },
  {
   "cell_type": "code",
   "execution_count": 17,
   "metadata": {},
   "outputs": [],
   "source": [
    "engine = create_engine(connect)\n",
    "cur = engine.connect()"
   ]
  },
  {
   "cell_type": "markdown",
   "metadata": {},
   "source": [
    "### 8. Saving the .csv file to the new database"
   ]
  },
  {
   "cell_type": "code",
   "execution_count": 18,
   "metadata": {},
   "outputs": [],
   "source": [
    "phone_bill_data.to_sql(\"Phone_bills\", cur)"
   ]
  },
  {
   "cell_type": "markdown",
   "metadata": {},
   "source": [
    "### 9. Saving the image into the database"
   ]
  },
  {
   "cell_type": "code",
   "execution_count": 20,
   "metadata": {},
   "outputs": [
    {
     "data": {
      "text/plain": [
       "[(0,\n",
       "  '37382491',\n",
       "  '0176 / 47344855',\n",
       "  '224983810',\n",
       "  'Telekom',\n",
       "  'green LTE 6 GB',\n",
       "  'Nikhil Raj Mule')]"
      ]
     },
     "execution_count": 20,
     "metadata": {},
     "output_type": "execute_result"
    }
   ],
   "source": [
    "import psycopg2\n",
    "\n",
    "# Connect to your postgres DB\n",
    "conn = psycopg2.connect(\"dbname=phone_bills user=*** password=**** host=localhost\")\n",
    "curr = conn.cursor()\n",
    "\n",
    "# Execute a query\n",
    "curr.execute('select * from \"Phone_bills\"')\n",
    "\n",
    "# Retrieve query results\n",
    "curr.fetchall()"
   ]
  },
  {
   "cell_type": "markdown",
   "metadata": {},
   "source": [
    "### 10. Creating the new table for storing the images"
   ]
  },
  {
   "cell_type": "code",
   "execution_count": 22,
   "metadata": {},
   "outputs": [],
   "source": [
    "def create_tables():\n",
    "    \"\"\" create tables in the PostgreSQL database\"\"\"\n",
    "    commands = (\n",
    "        \"\"\" CREATE TABLE images_data (\n",
    "                serial_number SERIAL PRIMARY KEY,\n",
    "                file_extension VARCHAR(5) NOT NULL,\n",
    "                images BYTEA NOT NULL)\n",
    "        \"\"\")\n",
    "    conn = None\n",
    "    try:\n",
    "        # read the connection parameters\n",
    "        # connect to the PostgreSQL server\n",
    "        conn = psycopg2.connect(\"dbname=phone_bills user=*** password=**** host=localhost\")\n",
    "        cur = conn.cursor()\n",
    "        # create table one by one\n",
    "        cur.execute(commands)\n",
    "        # close communication with the PostgreSQL database server\n",
    "        cur.close()\n",
    "        # commit the changes\n",
    "        conn.commit()\n",
    "    except (Exception, psycopg2.DatabaseError) as error:\n",
    "        print(error)\n",
    "    finally:\n",
    "        if conn is not None:\n",
    "            conn.close()\n",
    "\n",
    "if __name__ == '__main__':\n",
    "    create_tables()"
   ]
  },
  {
   "cell_type": "markdown",
   "metadata": {},
   "source": [
    "### 11. Finally adding the image to the table"
   ]
  },
  {
   "cell_type": "code",
   "execution_count": 25,
   "metadata": {},
   "outputs": [],
   "source": [
    "def write_blob(serial_number, path_to_file, file_extension):\n",
    "    \"\"\" insert a BLOB into a table \"\"\"\n",
    "    conn = None\n",
    "    try:\n",
    "        # read data from a picture\n",
    "        drawing = open(path_to_file,'rb').read()\n",
    "        # read database configuration\n",
    "        conn = psycopg2.connect(\"dbname=phone_bills user=*** password=**** host=localhost\")\n",
    "        # connect to the PostgresQL database\n",
    "        # create a new cursor object\n",
    "        cur = conn.cursor()\n",
    "        # execute the INSERT statement\n",
    "        cur.execute(\"INSERT INTO images_data(serial_number,file_extension, images)\" +\n",
    "                    \"VALUES(%s,%s,%s)\",\n",
    "                    (serial_number, file_extension, psycopg2.Binary(drawing)))\n",
    "        # commit the changes to the database\n",
    "        conn.commit()\n",
    "        # close the communication with the PostgresQL database\n",
    "        cur.close()\n",
    "    except (Exception, psycopg2.DatabaseError) as error:\n",
    "        print(error)\n",
    "    finally:\n",
    "        if conn is not None:\n",
    "            conn.close()"
   ]
  },
  {
   "cell_type": "code",
   "execution_count": 26,
   "metadata": {},
   "outputs": [],
   "source": [
    "write_blob(1,'image0.jpg', 'jpg')"
   ]
  },
  {
   "cell_type": "markdown",
   "metadata": {},
   "source": [
    "### 12. Checking the image loaction"
   ]
  },
  {
   "cell_type": "code",
   "execution_count": 27,
   "metadata": {},
   "outputs": [],
   "source": [
    "def read_blob(path_to_dir):\n",
    "    \"\"\" read BLOB data from a table \"\"\"\n",
    "    conn = None\n",
    "    try:\n",
    "        # read database configuration\n",
    "        # connect to the PostgresQL database\n",
    "        conn = psycopg2.connect(\"dbname=phone_bills user=*** password=**** host=localhost\")\n",
    "        # connect to the PostgresQL database\n",
    "        # create a new cursor object\n",
    "        cur = conn.cursor()\n",
    "        # execute the SELECT statement\n",
    "        cur.execute(\"\"\" SELECT *\n",
    "                        FROM images_data\n",
    "                        \"\"\")\n",
    "\n",
    "        blob = cur.fetchone()\n",
    "        print(blob)\n",
    "        open(path_to_dir +'.' + blob[1], 'wb').write(blob[2])\n",
    "        # close the communication with the PostgresQL database\n",
    "        cur.close()\n",
    "    except (Exception, psycopg2.DatabaseError) as error:\n",
    "        print(error)\n",
    "    finally:\n",
    "        if conn is not None:\n",
    "            conn.close()"
   ]
  },
  {
   "cell_type": "code",
   "execution_count": 28,
   "metadata": {},
   "outputs": [
    {
     "name": "stdout",
     "output_type": "stream",
     "text": [
      "(1, 'jpg', <memory at 0x000001B4C5406580>)\n"
     ]
    }
   ],
   "source": [
    "read_blob(\"image0\")"
   ]
  }
 ],
 "metadata": {
  "interpreter": {
   "hash": "dfa39abac8e240f8e40482f359ec1e9ca31d17cdaa9a5e9b93e40fda39ee049f"
  },
  "kernelspec": {
   "display_name": "Python 3.9.7 64-bit ('ocr': conda)",
   "language": "python",
   "name": "python3"
  },
  "language_info": {
   "codemirror_mode": {
    "name": "ipython",
    "version": 3
   },
   "file_extension": ".py",
   "mimetype": "text/x-python",
   "name": "python",
   "nbconvert_exporter": "python",
   "pygments_lexer": "ipython3",
   "version": "3.9.7"
  },
  "orig_nbformat": 4
 },
 "nbformat": 4,
 "nbformat_minor": 2
}
