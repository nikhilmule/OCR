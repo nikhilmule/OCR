{
 "cells": [
  {
   "cell_type": "markdown",
   "metadata": {},
   "source": [
    "# OCR (_Optical Character Recognition_)\n",
    "\n",
    "## Objective:\n",
    "\n",
    "    - The main objective of this project is to extract the customer information from the monthly rechnung (bill).\n",
    "    - Initially the \"Pdf\" is converted into the \"Image\" and then 'opencv' library is used for adjusting the color and thershold.\n",
    "        + While converting the pdf to image. download and mention the 'Poppler' location\n",
    "    - In this 'numpy' library is used for extracting the desired portion for the 'image' for the futher process\n",
    "    - 'Tesseract' library is used for converting the image to string and data\n",
    "        + download and mention the tesseract location\n",
    "    - 'Regex' is utilized here for extracting the useful information like all details.\n",
    "    - Then a dataframe is created for storing all details and further dataframe is stored as \".csv\" file.\n",
    "    - New Database connection is established for storing the .csv files and new tables are created for storing the image files\n",
    "    - In this project postgresql database is used.\n"
   ]
  },
  {
   "cell_type": "markdown",
   "metadata": {},
   "source": [
    "### 1. Importing and installing all libraries"
   ]
  },
  {
   "cell_type": "code",
   "execution_count": 1,
   "metadata": {},
   "outputs": [
    {
     "name": "stdout",
     "output_type": "stream",
     "text": [
      "Requirement already satisfied: pdf2image in d:\\anaconda\\envs\\ocr\\lib\\site-packages (1.16.0)Note: you may need to restart the kernel to use updated packages.\n",
      "Requirement already satisfied: pillow in d:\\anaconda\\envs\\ocr\\lib\\site-packages (from pdf2image) (8.2.0)\n",
      "\n"
     ]
    },
    {
     "name": "stderr",
     "output_type": "stream",
     "text": [
      "WARNING: Ignoring invalid distribution -illow (d:\\anaconda\\envs\\ocr\\lib\\site-packages)\n",
      "WARNING: Ignoring invalid distribution -illow (d:\\anaconda\\envs\\ocr\\lib\\site-packages)\n",
      "WARNING: Ignoring invalid distribution -illow (d:\\anaconda\\envs\\ocr\\lib\\site-packages)\n",
      "WARNING: Ignoring invalid distribution -illow (d:\\anaconda\\envs\\ocr\\lib\\site-packages)\n",
      "WARNING: Ignoring invalid distribution -illow (d:\\anaconda\\envs\\ocr\\lib\\site-packages)\n",
      "WARNING: Ignoring invalid distribution -illow (d:\\anaconda\\envs\\ocr\\lib\\site-packages)\n"
     ]
    },
    {
     "name": "stdout",
     "output_type": "stream",
     "text": [
      "Requirement already satisfied: tesseract in d:\\anaconda\\envs\\ocr\\lib\\site-packages (0.1.3)Note: you may need to restart the kernel to use updated packages.\n",
      "\n"
     ]
    },
    {
     "name": "stderr",
     "output_type": "stream",
     "text": [
      "WARNING: Ignoring invalid distribution -illow (d:\\anaconda\\envs\\ocr\\lib\\site-packages)\n",
      "WARNING: Ignoring invalid distribution -illow (d:\\anaconda\\envs\\ocr\\lib\\site-packages)\n",
      "WARNING: Ignoring invalid distribution -illow (d:\\anaconda\\envs\\ocr\\lib\\site-packages)\n",
      "WARNING: Ignoring invalid distribution -illow (d:\\anaconda\\envs\\ocr\\lib\\site-packages)\n",
      "WARNING: Ignoring invalid distribution -illow (d:\\anaconda\\envs\\ocr\\lib\\site-packages)\n",
      "WARNING: Ignoring invalid distribution -illow (d:\\anaconda\\envs\\ocr\\lib\\site-packages)\n"
     ]
    }
   ],
   "source": [
    "%pip install pdf2image\n",
    "%pip install tesseract"
   ]
  },
  {
   "cell_type": "code",
   "execution_count": 2,
   "metadata": {},
   "outputs": [],
   "source": [
    "import os\n",
    "import cv2 as cv;\n",
    "import pandas as pd;\n",
    "import numpy as np;\n",
    "import pytesseract;\n",
    "import re;\n",
    "from PIL import Image"
   ]
  },
  {
   "cell_type": "markdown",
   "metadata": {},
   "source": [
    "### 2. Converting the pdf to image"
   ]
  },
  {
   "cell_type": "code",
   "execution_count": 3,
   "metadata": {},
   "outputs": [],
   "source": [
    "from pdf2image import convert_from_path\n",
    "images = convert_from_path('Sample_test.pdf', poppler_path= r'E:\\integrify\\Notebooks\\Pytorch\\poppler\\Release-21.11.0-0\\poppler-21.11.0\\Library\\bin')"
   ]
  },
  {
   "cell_type": "code",
   "execution_count": 4,
   "metadata": {},
   "outputs": [
    {
     "data": {
      "text/plain": [
       "2"
      ]
     },
     "execution_count": 4,
     "metadata": {},
     "output_type": "execute_result"
    }
   ],
   "source": [
    "len(images)"
   ]
  },
  {
   "cell_type": "markdown",
   "metadata": {},
   "source": [
    "### 3. Storing the images in the new folder"
   ]
  },
  {
   "cell_type": "code",
   "execution_count": 5,
   "metadata": {},
   "outputs": [],
   "source": [
    "Label = 'test_samples'\n",
    "if not os.path.exists(Label):\n",
    "    os.mkdir(Label)"
   ]
  },
  {
   "cell_type": "code",
   "execution_count": 6,
   "metadata": {},
   "outputs": [],
   "source": [
    "os.chdir('test_samples')\n",
    "for i, image in enumerate(images):\n",
    "    test_cases = 'image'+str(i)+'.jpg'\n",
    "    image.save(test_cases, \"JPEG\")"
   ]
  },
  {
   "cell_type": "code",
   "execution_count": 7,
   "metadata": {},
   "outputs": [],
   "source": [
    "img = cv.imread('image0.jpg')\n",
    "img = cv.resize(img, (1654,2339)) "
   ]
  },
  {
   "cell_type": "code",
   "execution_count": 8,
   "metadata": {},
   "outputs": [],
   "source": [
    "cv.imshow(\"Image\", img)\n",
    "cv.waitKey(0) # K -capital\n",
    "cv.destroyAllWindows()"
   ]
  },
  {
   "cell_type": "markdown",
   "metadata": {},
   "source": [
    "### 4. Converting into the image into numpy array"
   ]
  },
  {
   "cell_type": "code",
   "execution_count": 9,
   "metadata": {},
   "outputs": [],
   "source": [
    "image_array = np.array(img)"
   ]
  },
  {
   "cell_type": "code",
   "execution_count": 10,
   "metadata": {},
   "outputs": [
    {
     "data": {
      "text/plain": [
       "2339"
      ]
     },
     "execution_count": 10,
     "metadata": {},
     "output_type": "execute_result"
    }
   ],
   "source": [
    "len(image_array)"
   ]
  },
  {
   "cell_type": "code",
   "execution_count": 11,
   "metadata": {},
   "outputs": [],
   "source": [
    "check = Image.fromarray(image_array[1200:1400], 'RGB')\n",
    "check.show()"
   ]
  },
  {
   "cell_type": "markdown",
   "metadata": {},
   "source": [
    "### 5. Converting image into string"
   ]
  },
  {
   "cell_type": "code",
   "execution_count": 12,
   "metadata": {},
   "outputs": [
    {
     "name": "stdout",
     "output_type": "stream",
     "text": [
      "Mobilfunk-Vertragsabrechnungen\n",
      "\n",
      " \n",
      "\n",
      "Mobilfunk-Rufnummer 0176 / 47344855 Vertragsnummer: 224983810\n",
      "Mobilfunknetz: Telekom Tarif: green LTE 6 GB\n",
      "Teilnehmer: Nikhil Raj Mule\n",
      "\n",
      " \n",
      "\n",
      " \n",
      "\n",
      " \n",
      "\n"
     ]
    }
   ],
   "source": [
    "pytesseract.pytesseract.tesseract_cmd=r'C:\\Program Files (x86)\\Tesseract-OCR\\tesseract.exe'\n",
    "text = pytesseract.image_to_string(check)\n",
    "print(text)"
   ]
  },
  {
   "cell_type": "markdown",
   "metadata": {},
   "source": [
    "### 5. Preprocessing for extracting the customer information"
   ]
  },
  {
   "cell_type": "code",
   "execution_count": 13,
   "metadata": {},
   "outputs": [],
   "source": [
    "final_text = text.replace('\\n','')"
   ]
  },
  {
   "cell_type": "code",
   "execution_count": 14,
   "metadata": {},
   "outputs": [
    {
     "data": {
      "text/plain": [
       "'Mobilfunk-Vertragsabrechnungen Mobilfunk-Rufnummer 0176 / 47344855 Vertragsnummer: 224983810Mobilfunknetz: Telekom Tarif: green LTE 6 GBTeilnehmer: Nikhil Raj Mule   '"
      ]
     },
     "execution_count": 14,
     "metadata": {},
     "output_type": "execute_result"
    }
   ],
   "source": [
    "final_text"
   ]
  },
  {
   "cell_type": "code",
   "execution_count": 15,
   "metadata": {},
   "outputs": [
    {
     "data": {
      "text/plain": [
       "['0176 / 47344855',\n",
       " '224983810',\n",
       " 'Telekom',\n",
       " 'green LTE 6 GB',\n",
       " 'Nikhil Raj Mule']"
      ]
     },
     "execution_count": 15,
     "metadata": {},
     "output_type": "execute_result"
    }
   ],
   "source": [
    "data_ = re.findall(r\"(?<=nummer\\s)\\d+\\s\\/\\s\\d+|(?<=nummer\\:\\s)\\d+|(?<=netz\\:\\s)\\w+|(?<=rif\\:\\s)\\w+\\s\\w+\\s\\w+\\s\\wB|(?<=nehmer\\:\\s)\\w+\\s\\w+\\s\\w+\", final_text)\n",
    "data_"
   ]
  },
  {
   "cell_type": "markdown",
   "metadata": {},
   "source": [
    "### 6. Creating and saving the dataframe as .CSV file"
   ]
  },
  {
   "cell_type": "code",
   "execution_count": 16,
   "metadata": {},
   "outputs": [
    {
     "data": {
      "text/html": [
       "<div>\n",
       "<style scoped>\n",
       "    .dataframe tbody tr th:only-of-type {\n",
       "        vertical-align: middle;\n",
       "    }\n",
       "\n",
       "    .dataframe tbody tr th {\n",
       "        vertical-align: top;\n",
       "    }\n",
       "\n",
       "    .dataframe thead th {\n",
       "        text-align: right;\n",
       "    }\n",
       "</style>\n",
       "<table border=\"1\" class=\"dataframe\">\n",
       "  <thead>\n",
       "    <tr style=\"text-align: right;\">\n",
       "      <th></th>\n",
       "      <th>Handy_nummer</th>\n",
       "      <th>Vertragsnummer</th>\n",
       "      <th>Mobilfunknetz</th>\n",
       "      <th>Tarif</th>\n",
       "      <th>Teilnehmer</th>\n",
       "    </tr>\n",
       "  </thead>\n",
       "  <tbody>\n",
       "    <tr>\n",
       "      <th>0</th>\n",
       "      <td>0176 / 47344855</td>\n",
       "      <td>224983810</td>\n",
       "      <td>Telekom</td>\n",
       "      <td>green LTE 6 GB</td>\n",
       "      <td>Nikhil Raj Mule</td>\n",
       "    </tr>\n",
       "  </tbody>\n",
       "</table>\n",
       "</div>"
      ],
      "text/plain": [
       "      Handy_nummer Vertragsnummer Mobilfunknetz           Tarif  \\\n",
       "0  0176 / 47344855      224983810       Telekom  green LTE 6 GB   \n",
       "\n",
       "        Teilnehmer  \n",
       "0  Nikhil Raj Mule  "
      ]
     },
     "execution_count": 16,
     "metadata": {},
     "output_type": "execute_result"
    }
   ],
   "source": [
    "phone_bill_data = pd.DataFrame(data= {'Handy_nummer': [data_[0]], 'Vertragsnummer': [data_[1]], \n",
    "                    'Mobilfunknetz': [data_[2]], 'Tarif': [data_[3]], 'Teilnehmer': [data_[4]]})\n",
    "phone_bill_data"
   ]
  },
  {
   "cell_type": "code",
   "execution_count": 17,
   "metadata": {},
   "outputs": [],
   "source": [
    "phone_bill_data.to_csv('bill_data.csv')"
   ]
  },
  {
   "cell_type": "markdown",
   "metadata": {},
   "source": [
    "### 7. Connecting to the database for storing the .csv fileto the database"
   ]
  },
  {
   "cell_type": "code",
   "execution_count": 19,
   "metadata": {},
   "outputs": [],
   "source": [
    "# hiding the password\n",
    "from getpass import getpass"
   ]
  },
  {
   "cell_type": "code",
   "execution_count": 18,
   "metadata": {},
   "outputs": [],
   "source": [
    "param_dict={\n",
    "    \"host\":\"localhost\",\n",
    "    \"database\":\"phone_bills\",\n",
    "    \"user\":\"***\",\n",
    "    \"password\": \"****\"\n",
    "}"
   ]
  },
  {
   "cell_type": "code",
   "execution_count": 19,
   "metadata": {},
   "outputs": [
    {
     "name": "stdout",
     "output_type": "stream",
     "text": [
      "Requirement already satisfied: psycopg2 in d:\\anaconda\\envs\\ocr\\lib\\site-packages (2.9.2)Note: you may need to restart the kernel to use updated packages.\n"
     ]
    },
    {
     "name": "stderr",
     "output_type": "stream",
     "text": [
      "WARNING: Ignoring invalid distribution -illow (d:\\anaconda\\envs\\ocr\\lib\\site-packages)\n",
      "WARNING: Ignoring invalid distribution -illow (d:\\anaconda\\envs\\ocr\\lib\\site-packages)\n",
      "WARNING: Ignoring invalid distribution -illow (d:\\anaconda\\envs\\ocr\\lib\\site-packages)\n",
      "WARNING: Ignoring invalid distribution -illow (d:\\anaconda\\envs\\ocr\\lib\\site-packages)\n",
      "WARNING: Ignoring invalid distribution -illow (d:\\anaconda\\envs\\ocr\\lib\\site-packages)\n",
      "WARNING: Ignoring invalid distribution -illow (d:\\anaconda\\envs\\ocr\\lib\\site-packages)\n"
     ]
    },
    {
     "name": "stdout",
     "output_type": "stream",
     "text": [
      "\n"
     ]
    }
   ],
   "source": [
    "%pip install psycopg2"
   ]
  },
  {
   "cell_type": "code",
   "execution_count": 20,
   "metadata": {},
   "outputs": [],
   "source": [
    "from sqlalchemy.engine import create_engine\n",
    "import psycopg2"
   ]
  },
  {
   "cell_type": "code",
   "execution_count": 21,
   "metadata": {},
   "outputs": [],
   "source": [
    "connect = \"postgresql://%s:%s@%s:5432/%s\" %(param_dict[\"user\"], param_dict[\"password\"], param_dict[\"host\"], param_dict[\"database\"])"
   ]
  },
  {
   "cell_type": "code",
   "execution_count": 22,
   "metadata": {},
   "outputs": [],
   "source": [
    "engine = create_engine(connect)\n",
    "cur = engine.connect()"
   ]
  },
  {
   "cell_type": "markdown",
   "metadata": {},
   "source": [
    "### 8. Saving the .csv file to the new database"
   ]
  },
  {
   "cell_type": "code",
   "execution_count": 24,
   "metadata": {},
   "outputs": [],
   "source": [
    "phone_bill_data.to_sql(\"Phone_bills_1\", cur)"
   ]
  },
  {
   "cell_type": "markdown",
   "metadata": {},
   "source": [
    "### 9. Saving the image into the database"
   ]
  },
  {
   "cell_type": "code",
   "execution_count": 25,
   "metadata": {},
   "outputs": [
    {
     "data": {
      "text/plain": [
       "[(0,\n",
       "  '0176 / 47344855',\n",
       "  '224983810',\n",
       "  'Telekom',\n",
       "  'green LTE 6 GB',\n",
       "  'Nikhil Raj Mule')]"
      ]
     },
     "execution_count": 25,
     "metadata": {},
     "output_type": "execute_result"
    }
   ],
   "source": [
    "import psycopg2\n",
    "\n",
    "# Connect to your postgres DB\n",
    "conn = psycopg2.connect(\"dbname=phone_bills user=*** password=**** host=localhost\")\n",
    "curr = conn.cursor()\n",
    "\n",
    "# Execute a query\n",
    "curr.execute('select * from \"Phone_bills_1\"')\n",
    "\n",
    "# Retrieve query results\n",
    "curr.fetchall()"
   ]
  },
  {
   "cell_type": "markdown",
   "metadata": {},
   "source": [
    "### 10. Creating the new table for storing the images"
   ]
  },
  {
   "cell_type": "code",
   "execution_count": 26,
   "metadata": {},
   "outputs": [],
   "source": [
    "def create_tables():\n",
    "    \"\"\" create tables in the PostgreSQL database\"\"\"\n",
    "    commands = (\n",
    "        \"\"\" CREATE TABLE image_data (\n",
    "                serial_number SERIAL PRIMARY KEY,\n",
    "                file_extension VARCHAR(5) NOT NULL,\n",
    "                images BYTEA NOT NULL)\n",
    "        \"\"\")\n",
    "    conn = None\n",
    "    try:\n",
    "        # read the connection parameters\n",
    "        # connect to the PostgreSQL server\n",
    "        conn = psycopg2.connect(\"dbname=phone_bills user=*** password=**** host=localhost\")\n",
    "        cur = conn.cursor()\n",
    "        # create table one by one\n",
    "        cur.execute(commands)\n",
    "        # close communication with the PostgreSQL database server\n",
    "        cur.close()\n",
    "        # commit the changes\n",
    "        conn.commit()\n",
    "    except (Exception, psycopg2.DatabaseError) as error:\n",
    "        print(error)\n",
    "    finally:\n",
    "        if conn is not None:\n",
    "            conn.close()\n",
    "\n",
    "if __name__ == '__main__':\n",
    "    create_tables()"
   ]
  },
  {
   "cell_type": "markdown",
   "metadata": {},
   "source": [
    "### 11. Finally adding the image to the table"
   ]
  },
  {
   "cell_type": "code",
   "execution_count": 27,
   "metadata": {},
   "outputs": [],
   "source": [
    "def write_blob(serial_number, path_to_file, file_extension):\n",
    "    \"\"\" insert a BLOB into a table \"\"\"\n",
    "    conn = None\n",
    "    try:\n",
    "        # read data from a picture\n",
    "        drawing = open(path_to_file,'rb').read()\n",
    "        # read database configuration\n",
    "        conn = psycopg2.connect(\"dbname=phone_bills user=*** password=**** host=localhost\")\n",
    "        # connect to the PostgresQL database\n",
    "        # create a new cursor object\n",
    "        cur = conn.cursor()\n",
    "        # execute the INSERT statement\n",
    "        cur.execute(\"INSERT INTO image_data(serial_number,file_extension, images)\" +\n",
    "                    \"VALUES(%s,%s,%s)\",\n",
    "                    (serial_number, file_extension, psycopg2.Binary(drawing)))\n",
    "        # commit the changes to the database\n",
    "        conn.commit()\n",
    "        # close the communication with the PostgresQL database\n",
    "        cur.close()\n",
    "    except (Exception, psycopg2.DatabaseError) as error:\n",
    "        print(error)\n",
    "    finally:\n",
    "        if conn is not None:\n",
    "            conn.close()"
   ]
  },
  {
   "cell_type": "code",
   "execution_count": 28,
   "metadata": {},
   "outputs": [],
   "source": [
    "write_blob(1,'image0.jpg', 'jpg')"
   ]
  },
  {
   "cell_type": "markdown",
   "metadata": {},
   "source": [
    "### 12. Checking the image loaction"
   ]
  },
  {
   "cell_type": "code",
   "execution_count": 29,
   "metadata": {},
   "outputs": [],
   "source": [
    "def read_blob(path_to_dir):\n",
    "    \"\"\" read BLOB data from a table \"\"\"\n",
    "    conn = None\n",
    "    try:\n",
    "        # read database configuration\n",
    "        # connect to the PostgresQL database\n",
    "        conn = psycopg2.connect(\"dbname=phone_bills user=*** password=**** host=localhost\")\n",
    "        # connect to the PostgresQL database\n",
    "        # create a new cursor object\n",
    "        cur = conn.cursor()\n",
    "        # execute the SELECT statement\n",
    "        cur.execute(\"\"\" SELECT *\n",
    "                        FROM image_data\n",
    "                        \"\"\")\n",
    "\n",
    "        blob = cur.fetchone()\n",
    "        print(blob)\n",
    "        open(path_to_dir +'.' + blob[1], 'wb').write(blob[2])\n",
    "        # close the communication with the PostgresQL database\n",
    "        cur.close()\n",
    "    except (Exception, psycopg2.DatabaseError) as error:\n",
    "        print(error)\n",
    "    finally:\n",
    "        if conn is not None:\n",
    "            conn.close()"
   ]
  },
  {
   "cell_type": "code",
   "execution_count": 30,
   "metadata": {},
   "outputs": [
    {
     "name": "stdout",
     "output_type": "stream",
     "text": [
      "(1, 'jpg', <memory at 0x00000222AEC3AF40>)\n"
     ]
    }
   ],
   "source": [
    "read_blob(\"image0\")"
   ]
  },
  {
   "cell_type": "code",
   "execution_count": null,
   "metadata": {},
   "outputs": [],
   "source": []
  },
  {
   "cell_type": "code",
   "execution_count": null,
   "metadata": {},
   "outputs": [],
   "source": []
  },
  {
   "cell_type": "code",
   "execution_count": null,
   "metadata": {},
   "outputs": [],
   "source": []
  },
  {
   "cell_type": "code",
   "execution_count": null,
   "metadata": {},
   "outputs": [],
   "source": []
  },
  {
   "cell_type": "code",
   "execution_count": null,
   "metadata": {},
   "outputs": [],
   "source": []
  },
  {
   "cell_type": "code",
   "execution_count": null,
   "metadata": {},
   "outputs": [],
   "source": []
  },
  {
   "cell_type": "code",
   "execution_count": null,
   "metadata": {},
   "outputs": [],
   "source": []
  },
  {
   "cell_type": "code",
   "execution_count": null,
   "metadata": {},
   "outputs": [],
   "source": []
  },
  {
   "cell_type": "code",
   "execution_count": null,
   "metadata": {},
   "outputs": [],
   "source": []
  },
  {
   "cell_type": "code",
   "execution_count": null,
   "metadata": {},
   "outputs": [],
   "source": []
  },
  {
   "cell_type": "code",
   "execution_count": null,
   "metadata": {},
   "outputs": [],
   "source": []
  },
  {
   "cell_type": "code",
   "execution_count": null,
   "metadata": {},
   "outputs": [],
   "source": []
  },
  {
   "cell_type": "code",
   "execution_count": null,
   "metadata": {},
   "outputs": [],
   "source": []
  },
  {
   "cell_type": "code",
   "execution_count": null,
   "metadata": {},
   "outputs": [],
   "source": []
  },
  {
   "cell_type": "code",
   "execution_count": null,
   "metadata": {},
   "outputs": [],
   "source": []
  },
  {
   "cell_type": "code",
   "execution_count": null,
   "metadata": {},
   "outputs": [],
   "source": []
  },
  {
   "cell_type": "code",
   "execution_count": null,
   "metadata": {},
   "outputs": [],
   "source": []
  },
  {
   "cell_type": "code",
   "execution_count": null,
   "metadata": {},
   "outputs": [],
   "source": []
  },
  {
   "cell_type": "code",
   "execution_count": null,
   "metadata": {},
   "outputs": [],
   "source": []
  },
  {
   "cell_type": "code",
   "execution_count": null,
   "metadata": {},
   "outputs": [],
   "source": []
  },
  {
   "cell_type": "code",
   "execution_count": null,
   "metadata": {},
   "outputs": [],
   "source": []
  },
  {
   "cell_type": "code",
   "execution_count": null,
   "metadata": {},
   "outputs": [],
   "source": []
  },
  {
   "cell_type": "code",
   "execution_count": null,
   "metadata": {},
   "outputs": [],
   "source": []
  },
  {
   "cell_type": "code",
   "execution_count": null,
   "metadata": {},
   "outputs": [],
   "source": []
  },
  {
   "cell_type": "code",
   "execution_count": null,
   "metadata": {},
   "outputs": [],
   "source": []
  }
 ],
 "metadata": {
  "interpreter": {
   "hash": "ce0a8f51cb6b8227e164f0b033a567dbc8c94620fc1baf4cd6a61f9812419415"
  },
  "kernelspec": {
   "display_name": "Python 3.9.7 64-bit ('my_env': conda)",
   "language": "python",
   "name": "python3"
  },
  "language_info": {
   "codemirror_mode": {
    "name": "ipython",
    "version": 3
   },
   "file_extension": ".py",
   "mimetype": "text/x-python",
   "name": "python",
   "nbconvert_exporter": "python",
   "pygments_lexer": "ipython3",
   "version": "3.9.7"
  },
  "orig_nbformat": 4
 },
 "nbformat": 4,
 "nbformat_minor": 2
}
